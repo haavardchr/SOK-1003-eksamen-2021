{
 "cells": [
  {
   "cell_type": "markdown",
   "id": "c9a50a02-e6b8-4593-93c2-2bb127433f8b",
   "metadata": {},
   "source": [
    "# **Semesteroppgave**"
   ]
  },
  {
   "cell_type": "markdown",
   "id": "8e68aa71-c4fb-4b04-ac25-640a1cc29313",
   "metadata": {},
   "source": [
    "I denne oppgaven har jeg valgt å gå gjennom et annuitetslån. Her ser jeg på hvilke utfordringer en vanlig familie på fire, med medianinntekt i Norge møter på."
   ]
  },
  {
   "cell_type": "markdown",
   "id": "75109e7c-a43b-4074-9123-a11c0d3bdee4",
   "metadata": {},
   "source": [
    "Jeg har valgt å behandle denne oppgaven fordi jeg ønsker bedre forsåelse i hvordan et annuitetslån er bygd opp. En annuitetslånkalkulator kan jeg selv benytte om jeg kommer i en situasjon der jeg skal søke om et lån til for eksempel en bolig. I tillegg gjør problemstilleng min det at jeg har mulighet til å få innsikt i hvilke utfordrigner medianfamilier i Norge møter på økonomisk i dag."
   ]
  },
  {
   "cell_type": "markdown",
   "id": "9ef07a43-7601-4483-aae4-5ef1d977ae8c",
   "metadata": {},
   "source": [
    "Jeg har ikke gjennomført en lignende oppgave før, og alt innhold er laget av meg. Av litteratur og kilder har jeg hentet data på medianinntekt fra SSB \"https://www.ssb.no/97014/median-inntekt-etter-skatt-etter-fylke-og-husholdningstype.kroner\". Her har jeg valgt ut medianinntekten til et par med to barn der yngste barnet er mellom null og fem år. Jeg har også brukt SIFOs kalkulator \"https://www.oslomet.no/om/sifo/referansebudsjettet\" for å se på de månedlige utgiftene til denne familien. I tilegg har jeg sett på de effektive rentene hos bankene Sparebank 1, DNB, Nordea og Storebrand."
   ]
  },
  {
   "cell_type": "markdown",
   "id": "f0819171-fe94-444e-aa44-fefd53dc5f8a",
   "metadata": {},
   "source": [
    "For å få en bedre forståelse av hvordan en skal gå frem på en slik oppgave startet jeg arbeidet med å søke opp eksempler på en annuitetslån kalkulator. Det eksisterer mange gode Python-scripts på blant annet Github, og mange fine videoer på YouTube. En av de første videoene jeg møtte på lignet på noe så enkelt som det her:"
   ]
  },
  {
   "cell_type": "code",
   "execution_count": 2,
   "id": "85e61b7a-0062-432b-9027-d13a0b186a7b",
   "metadata": {},
   "outputs": [],
   "source": [
    "def kalkulator(lån, rente, terminer):\n",
    "    a = (lån * rente*((1+rente)**terminer))\n",
    "    b = (((1+rente)**terminer)-1)\n",
    "    c = (a/b)\n",
    "    return c"
   ]
  },
  {
   "cell_type": "code",
   "execution_count": 3,
   "id": "a93206ea-3f8a-48af-83ba-139e3b0fe688",
   "metadata": {},
   "outputs": [
    {
     "data": {
      "text/plain": [
       "111326.52786531636"
      ]
     },
     "execution_count": 3,
     "metadata": {},
     "output_type": "execute_result"
    }
   ],
   "source": [
    "kalkulator(1000000, 0.02, 10)"
   ]
  },
  {
   "cell_type": "markdown",
   "id": "0c6aea10-0311-4ae6-88b2-176a23b04e88",
   "metadata": {},
   "source": [
    "Men jeg forsto gange tidlig at dette ikke var nok til en semester oppgave. Så til oppgave løsingen startet jeg med det å lage selve input delen, der brukeren av kalkulatoren fyller inn størrelsen på lånet, renten og antall terminer. Deretter lagde jeg utregningsdelen, der terminene ganges med 12 for å få antall måneder, renten endres fra heltall til desimaltall (integer til string) og terminbeløpet regnes ut.Deretter lagde jeg oversiktstabellen, som gjør utregninger ved bruk av terminbeløpet for å finne ut hvor stor del som er rente, hvor stor del som er avdrag og hva som gjenstår av restlån. I tillegg formaterte jeg dette inn i en tabell slik at den skulle være oversiktlig nok. Til slutt lagde jeg en liten bit som viste grafisk hvordan rente andelen avtar og avdragene øker over tid, samt også det som får kalkulatoren til å fungere."
   ]
  },
  {
   "cell_type": "markdown",
   "id": "bd192e5d-7556-4951-ac1e-2518707695f9",
   "metadata": {},
   "source": [
    "Familien:\n",
    "Familien Hanssen består av fire familiemedlemmer, pappa Jørn, mamma Trine og de to barna deres Lars (5) og Lise (2)"
   ]
  },
  {
   "cell_type": "markdown",
   "id": "b2f1355d-721b-4f23-bcc8-79205b926200",
   "metadata": {},
   "source": [
    "De har til nå bodd i et rekkehus som de har leid av et utleier, men ønsker å kjøpe et hus selv. De har en samlet årlig inntekt på 648 000 kr etter skatt og har ingen gjeld fra før. De har i tillegg klart å spare 500 000 kr i egenkapital. "
   ]
  },
  {
   "cell_type": "markdown",
   "id": "b626ba91-4317-4471-a224-48deac763a8c",
   "metadata": {},
   "source": [
    "Ifølge referansebudsjettet til Oslomet vil familien ha et månedlig forbruk på 33 229 kr, mens deres månedlig inntekt etter skatt (648 000 / 12) er 54 000. Det betyr at de har mulighet til å betale ned et lån som maksimalt har terminbeløp på 20 771 kr."
   ]
  },
  {
   "cell_type": "markdown",
   "id": "fe790aeb-d71d-4a2f-98b3-360efd676931",
   "metadata": {},
   "source": [
    "De har en ide om hvilke prisklasse de ligger i når det kommer til huskjøp, omtrent 6 000 000 kr, og formidler seg i banken om lånemuligheter."
   ]
  },
  {
   "cell_type": "markdown",
   "id": "7b7a84a3-f5cb-40ba-b7d7-bb205e3c8ecf",
   "metadata": {},
   "source": [
    "Hos Sparebank 1 får de tilbud om et lån på 5 500 000 kr, en rente på 2,14% og en nedbetalingstid på 30 år. Dette ønsker de å undersøke nermere, for å se hvor mye de må betale både årlig og månedlig. "
   ]
  },
  {
   "cell_type": "markdown",
   "id": "06158b42-eb2d-4605-8551-e830187cf5b1",
   "metadata": {},
   "source": [
    "Familien bestemmer seg for å oppsøke flere banker for å se om de kan få en bedre låneavtale. I DNB får de tilbud om et lån av samme størrelse med lavere rente, 2,02% men med kortere nedbetalingstid, 27 år. De vil derfor sammenligne de to tilbude for å se hvilket som passer de best."
   ]
  },
  {
   "cell_type": "code",
   "execution_count": 7,
   "id": "8e061077-2f99-418b-a0a1-6f04a2cf89e8",
   "metadata": {},
   "outputs": [
    {
     "ename": "KeyboardInterrupt",
     "evalue": "Interrupted by user",
     "output_type": "error",
     "traceback": [
      "\u001b[0;31m---------------------------------------------------------------------------\u001b[0m",
      "\u001b[0;31mKeyboardInterrupt\u001b[0m                         Traceback (most recent call last)",
      "\u001b[0;32m/tmp/ipykernel_58585/2845197059.py\u001b[0m in \u001b[0;36m<module>\u001b[0;34m\u001b[0m\n\u001b[1;32m     65\u001b[0m \u001b[0;34m\u001b[0m\u001b[0m\n\u001b[1;32m     66\u001b[0m \u001b[0;34m\u001b[0m\u001b[0m\n\u001b[0;32m---> 67\u001b[0;31m \u001b[0mmain\u001b[0m\u001b[0;34m(\u001b[0m\u001b[0;34m)\u001b[0m\u001b[0;34m\u001b[0m\u001b[0;34m\u001b[0m\u001b[0m\n\u001b[0m",
      "\u001b[0;32m/tmp/ipykernel_58585/2845197059.py\u001b[0m in \u001b[0;36mmain\u001b[0;34m()\u001b[0m\n\u001b[1;32m     60\u001b[0m \u001b[0;34m\u001b[0m\u001b[0m\n\u001b[1;32m     61\u001b[0m \u001b[0;32mdef\u001b[0m \u001b[0mmain\u001b[0m\u001b[0;34m(\u001b[0m\u001b[0;34m)\u001b[0m\u001b[0;34m:\u001b[0m\u001b[0;34m\u001b[0m\u001b[0;34m\u001b[0m\u001b[0m\n\u001b[0;32m---> 62\u001b[0;31m     \u001b[0mlånStørrelse\u001b[0m\u001b[0;34m,\u001b[0m \u001b[0mrente\u001b[0m\u001b[0;34m,\u001b[0m \u001b[0mterminer\u001b[0m \u001b[0;34m=\u001b[0m \u001b[0mlånInfo\u001b[0m\u001b[0;34m(\u001b[0m\u001b[0;34m)\u001b[0m\u001b[0;34m\u001b[0m\u001b[0;34m\u001b[0m\u001b[0m\n\u001b[0m\u001b[1;32m     63\u001b[0m     \u001b[0mbetalingsMengde\u001b[0m\u001b[0;34m,\u001b[0m \u001b[0mrentePros\u001b[0m\u001b[0;34m,\u001b[0m \u001b[0mmåneder\u001b[0m \u001b[0;34m=\u001b[0m \u001b[0mberegneMånedligeBetalinger\u001b[0m\u001b[0;34m(\u001b[0m\u001b[0mlånStørrelse\u001b[0m\u001b[0;34m,\u001b[0m \u001b[0mrente\u001b[0m\u001b[0;34m,\u001b[0m \u001b[0mterminer\u001b[0m\u001b[0;34m)\u001b[0m\u001b[0;34m\u001b[0m\u001b[0;34m\u001b[0m\u001b[0m\n\u001b[1;32m     64\u001b[0m     \u001b[0mlånOversikt\u001b[0m\u001b[0;34m(\u001b[0m\u001b[0mbetalingsMengde\u001b[0m\u001b[0;34m,\u001b[0m \u001b[0mrentePros\u001b[0m\u001b[0;34m,\u001b[0m \u001b[0mlånStørrelse\u001b[0m\u001b[0;34m,\u001b[0m \u001b[0mmåneder\u001b[0m\u001b[0;34m)\u001b[0m\u001b[0;34m\u001b[0m\u001b[0;34m\u001b[0m\u001b[0m\n",
      "\u001b[0;32m/tmp/ipykernel_58585/2845197059.py\u001b[0m in \u001b[0;36mlånInfo\u001b[0;34m()\u001b[0m\n\u001b[1;32m      7\u001b[0m \u001b[0;34m\u001b[0m\u001b[0m\n\u001b[1;32m      8\u001b[0m \u001b[0;32mdef\u001b[0m \u001b[0mlånInfo\u001b[0m\u001b[0;34m(\u001b[0m\u001b[0;34m)\u001b[0m\u001b[0;34m:\u001b[0m\u001b[0;34m\u001b[0m\u001b[0;34m\u001b[0m\u001b[0m\n\u001b[0;32m----> 9\u001b[0;31m     \u001b[0mlånmen\u001b[0m \u001b[0;34m=\u001b[0m \u001b[0mint\u001b[0m\u001b[0;34m(\u001b[0m\u001b[0minput\u001b[0m\u001b[0;34m(\u001b[0m\u001b[0;34m\"\\nLån størrelse:\\n\"\u001b[0m\u001b[0;34m)\u001b[0m\u001b[0;34m)\u001b[0m\u001b[0;34m\u001b[0m\u001b[0;34m\u001b[0m\u001b[0m\n\u001b[0m\u001b[1;32m     10\u001b[0m     \u001b[0mrente\u001b[0m \u001b[0;34m=\u001b[0m \u001b[0mfloat\u001b[0m\u001b[0;34m(\u001b[0m\u001b[0minput\u001b[0m\u001b[0;34m(\u001b[0m\u001b[0;34m\"\\nRente i prosent:\\n\"\u001b[0m\u001b[0;34m)\u001b[0m\u001b[0;34m)\u001b[0m\u001b[0;34m\u001b[0m\u001b[0;34m\u001b[0m\u001b[0m\n\u001b[1;32m     11\u001b[0m     \u001b[0mterminer\u001b[0m \u001b[0;34m=\u001b[0m \u001b[0mint\u001b[0m\u001b[0;34m(\u001b[0m\u001b[0minput\u001b[0m\u001b[0;34m(\u001b[0m\u001b[0;34m\"\\nAntall terminer:\\n\"\u001b[0m\u001b[0;34m)\u001b[0m\u001b[0;34m)\u001b[0m\u001b[0;34m\u001b[0m\u001b[0;34m\u001b[0m\u001b[0m\n",
      "\u001b[0;32m/usr/local/Miniconda3-py39_4.9.2-Linux-x86_64/lib/python3.9/site-packages/ipykernel/kernelbase.py\u001b[0m in \u001b[0;36mraw_input\u001b[0;34m(self, prompt)\u001b[0m\n\u001b[1;32m    979\u001b[0m                 \u001b[0;34m\"raw_input was called, but this frontend does not support input requests.\"\u001b[0m\u001b[0;34m\u001b[0m\u001b[0;34m\u001b[0m\u001b[0m\n\u001b[1;32m    980\u001b[0m             )\n\u001b[0;32m--> 981\u001b[0;31m         return self._input_request(\n\u001b[0m\u001b[1;32m    982\u001b[0m             \u001b[0mstr\u001b[0m\u001b[0;34m(\u001b[0m\u001b[0mprompt\u001b[0m\u001b[0;34m)\u001b[0m\u001b[0;34m,\u001b[0m\u001b[0;34m\u001b[0m\u001b[0;34m\u001b[0m\u001b[0m\n\u001b[1;32m    983\u001b[0m             \u001b[0mself\u001b[0m\u001b[0;34m.\u001b[0m\u001b[0m_parent_ident\u001b[0m\u001b[0;34m[\u001b[0m\u001b[0;34m\"shell\"\u001b[0m\u001b[0;34m]\u001b[0m\u001b[0;34m,\u001b[0m\u001b[0;34m\u001b[0m\u001b[0;34m\u001b[0m\u001b[0m\n",
      "\u001b[0;32m/usr/local/Miniconda3-py39_4.9.2-Linux-x86_64/lib/python3.9/site-packages/ipykernel/kernelbase.py\u001b[0m in \u001b[0;36m_input_request\u001b[0;34m(self, prompt, ident, parent, password)\u001b[0m\n\u001b[1;32m   1024\u001b[0m             \u001b[0;32mexcept\u001b[0m \u001b[0mKeyboardInterrupt\u001b[0m\u001b[0;34m:\u001b[0m\u001b[0;34m\u001b[0m\u001b[0;34m\u001b[0m\u001b[0m\n\u001b[1;32m   1025\u001b[0m                 \u001b[0;31m# re-raise KeyboardInterrupt, to truncate traceback\u001b[0m\u001b[0;34m\u001b[0m\u001b[0;34m\u001b[0m\u001b[0;34m\u001b[0m\u001b[0m\n\u001b[0;32m-> 1026\u001b[0;31m                 \u001b[0;32mraise\u001b[0m \u001b[0mKeyboardInterrupt\u001b[0m\u001b[0;34m(\u001b[0m\u001b[0;34m\"Interrupted by user\"\u001b[0m\u001b[0;34m)\u001b[0m \u001b[0;32mfrom\u001b[0m \u001b[0;32mNone\u001b[0m\u001b[0;34m\u001b[0m\u001b[0;34m\u001b[0m\u001b[0m\n\u001b[0m\u001b[1;32m   1027\u001b[0m             \u001b[0;32mexcept\u001b[0m \u001b[0mException\u001b[0m \u001b[0;32mas\u001b[0m \u001b[0me\u001b[0m\u001b[0;34m:\u001b[0m\u001b[0;34m\u001b[0m\u001b[0;34m\u001b[0m\u001b[0m\n\u001b[1;32m   1028\u001b[0m                 \u001b[0mself\u001b[0m\u001b[0;34m.\u001b[0m\u001b[0mlog\u001b[0m\u001b[0;34m.\u001b[0m\u001b[0mwarning\u001b[0m\u001b[0;34m(\u001b[0m\u001b[0;34m\"Invalid Message:\"\u001b[0m\u001b[0;34m,\u001b[0m \u001b[0mexc_info\u001b[0m\u001b[0;34m=\u001b[0m\u001b[0;32mTrue\u001b[0m\u001b[0;34m)\u001b[0m\u001b[0;34m\u001b[0m\u001b[0;34m\u001b[0m\u001b[0m\n",
      "\u001b[0;31mKeyboardInterrupt\u001b[0m: Interrupted by user"
     ]
    }
   ],
   "source": [
    "import array\n",
    "import math\n",
    "import matplotlib\n",
    "import matplotlib.pyplot as plt\n",
    "import numpy as np\n",
    "\n",
    "\n",
    "def lånInfo():\n",
    "    lånmen = int(input(\"\\nLån størrelse:\\n\"))\n",
    "    rente = float(input(\"\\nRente i prosent:\\n\"))\n",
    "    terminer = int(input(\"\\nAntall terminer:\\n\"))\n",
    "    while terminer >= 31 or terminer <= 0:\n",
    "        terminer = int(input(\"\\nBenytt antall terminer mellom 1 og 30\\n\"))\n",
    "    return lånmen, rente, terminer\n",
    "\n",
    "\n",
    "def beregneMånedligeBetalinger(lånmen, rente, terminer):\n",
    "    måneder = terminer * 12\n",
    "    rentePros = (rente * 0.1) / måneder\n",
    "    terminbeløp = (lånmen * rentePros) / (1 - (1 + rentePros) ** -måneder)\n",
    "    print(\"\\nAntall måneder:    \", måneder)\n",
    "    return terminbeløp, rentePros, måneder\n",
    "\n",
    "\n",
    "def lånOversikt(terminbeløp, rentePros, lånmen, måneder):\n",
    "    restlån = lånmen\n",
    "    i = 1\n",
    "    renteArray = array.array('f', [])\n",
    "    avdragArray = array.array('f', [])\n",
    "    for betalinger in range(1, måneder + 1):\n",
    "        rentebeløp = restlån * rentePros\n",
    "        avdragbeløp = terminbeløp - rentebeløp\n",
    "        restlån -= avdragbeløp\n",
    "        renteArray.insert(betalinger - 1, rentebeløp)\n",
    "        avdragArray.insert(betalinger - 1, avdragbeløp)\n",
    "\n",
    "        if restlån < 1:\n",
    "            restlån = 0\n",
    "        headerFmt = ' {0:10}{1:10}{2:10}{3:10}{4:20s}'\n",
    "        valueFmt  = '{0:5d}{1:12,.2f}{2:10,.2f}{3:12,.2f}{4:12,.2f}'\n",
    "        print(headerFmt.format('Måned','Rente','Beløp','Avdrag','Restlån'))\n",
    "        print(valueFmt.format(betalinger, rentebeløp, terminbeløp, avdragbeløp, restlån))\n",
    "        if restlån == 0:\n",
    "            print(\"\\n\\nGratulerer, lånet er nedbetalt\")\n",
    "        i += 1\n",
    "    #print(renteArray)\n",
    "    #print(avdragArray)\n",
    "    plot(renteArray, avdragArray)\n",
    "\n",
    "\n",
    "def plot(rentebeløp, avdragbeløp):\n",
    "    xpoints = np.array(rentebeløp)\n",
    "    ypoints = np.array(avdragbeløp)\n",
    "    plt.plot(xpoints, ypoints, color='r')\n",
    "    plt.title(\"Renter og avdrag på et annuitetslån\")\n",
    "    plt.xlabel(\"Renter\")\n",
    "    plt.ylabel(\"Avdrag\")\n",
    "    plt.show()\n",
    "\n",
    "\n",
    "def main():\n",
    "    lånStørrelse, rente, terminer = lånInfo()\n",
    "    betalingsMengde, rentePros, måneder = beregneMånedligeBetalinger(lånStørrelse, rente, terminer)\n",
    "    lånOversikt(betalingsMengde, rentePros, lånStørrelse, måneder)\n",
    "\n",
    "\n",
    "main()"
   ]
  },
  {
   "cell_type": "markdown",
   "id": "56707761-ece8-4213-a579-c4b2b8ae6b03",
   "metadata": {},
   "source": [
    "Ved å fylle inn verdiene, 5 500 000 kr i lån, 2,14% mot 2,02% rente og 30 mot 27 år ser vi at terminbeløpene er lavere hos Sparebank 1, der de kun behøver å betale 16 965,20 kr i måneden, mens hos DNB er terminbeløpene på    18 752 kr i måneden."
   ]
  },
  {
   "cell_type": "markdown",
   "id": "da6b6229-3230-48ee-8bfd-bbb448ca6ea7",
   "metadata": {},
   "source": [
    "Denne kalkulatoren er et fint verktøy for meg å ha i fremtiden, i et evig økende boligmarked vil det være godt å ha oversikt over hvor mye en blir nødt å betale i måneden for å betale ned et lån uansett størrelse, rente og terminer. "
   ]
  }
 ],
 "metadata": {
  "kernelspec": {
   "display_name": "Python 3 (ipykernel)",
   "language": "python",
   "name": "python3"
  },
  "language_info": {
   "codemirror_mode": {
    "name": "ipython",
    "version": 3
   },
   "file_extension": ".py",
   "mimetype": "text/x-python",
   "name": "python",
   "nbconvert_exporter": "python",
   "pygments_lexer": "ipython3",
   "version": "3.9.5"
  }
 },
 "nbformat": 4,
 "nbformat_minor": 5
}
